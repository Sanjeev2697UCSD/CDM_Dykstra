{
  "nbformat": 4,
  "nbformat_minor": 0,
  "metadata": {
    "colab": {
      "name": "Antenna Array Synthesis using CDM.ipynb",
      "provenance": [],
      "collapsed_sections": [],
      "authorship_tag": "ABX9TyNlNMWHpj/HRCH6Vef2kOfG",
      "include_colab_link": true
    },
    "kernelspec": {
      "display_name": "Python 3",
      "name": "python3"
    },
    "language_info": {
      "name": "python"
    }
  },
  "cells": [
    {
      "cell_type": "markdown",
      "metadata": {
        "id": "view-in-github",
        "colab_type": "text"
      },
      "source": [
        "<a href=\"https://colab.research.google.com/github/Sanjeev2697UCSD/CDM_Dykstra/blob/main/Antenna_Array_Synthesis_using_CDM.ipynb\" target=\"_parent\"><img src=\"https://colab.research.google.com/assets/colab-badge.svg\" alt=\"Open In Colab\"/></a>"
      ]
    },
    {
      "cell_type": "code",
      "metadata": {
        "id": "Kw7skBj4YRhs"
      },
      "source": [
        "import numpy as np\n",
        "from matplotlib import pyplot as plt\n",
        "import sklearn.datasets as dt\n",
        "import cvxpy as cp\n",
        "import csv\n",
        "import math\n",
        "from math import e"
      ],
      "execution_count": 1,
      "outputs": []
    },
    {
      "cell_type": "code",
      "metadata": {
        "id": "Y3G_Xi7nYYzp"
      },
      "source": [
        "# Obtaining the gain pattern from -pi/2 to pi/2\n",
        "a = []\n",
        "with open('gain_pattern.csv') as csvfile:\n",
        "  gain_pattern_1 = csv.reader(csvfile)\n",
        "  i = 0\n",
        "  for row in gain_pattern_1:\n",
        "    # Post processing the parameters\n",
        "    p = row[0]\n",
        "    p = p.replace('i', 'j')\n",
        "    p = complex(p)\n",
        "    a.append(p)\n",
        "\n",
        "a = np.array(a)"
      ],
      "execution_count": 13,
      "outputs": []
    },
    {
      "cell_type": "markdown",
      "metadata": {
        "id": "T_EHiYhBpkEi"
      },
      "source": [
        "***We are performing Co-ordinate Descent Algorithm for the Antenna Array Synthesis. We try to generate a dolph-chebyshev array based weights that achieves a desired side-lobe level given a gain pattern.***"
      ]
    },
    {
      "cell_type": "code",
      "metadata": {
        "id": "r-fs8uPXn8Mw"
      },
      "source": [
        "def coordinate_descent_function(X,y,lambda1, MAX_ITERATIONS):\n",
        "  # initialize Beta vector = 0\n",
        "  N = np.shape(y)[0]\n",
        "  y = y.reshape(N, 1)\n",
        "  p = np.shape(X[1,])\n",
        "  beta = np.zeros([p[0],1], dtype=complex)\n",
        "  num_iterations = 0;\n",
        "  while(num_iterations <= MAX_ITERATIONS):\n",
        "    for i in range(p[0]):\n",
        "      idx_out_columns = [i]\n",
        "      idx_in_columns = [j for j in range(p[0]) if j not in idx_out_columns]\n",
        "      X_r = X[:,idx_in_columns]\n",
        "      beta_r = beta[idx_in_columns,]\n",
        "      residual = y - np.matmul(X_r, beta_r)[:,]\n",
        "\n",
        "      # Computing the inner product to figure out how much magnitude of correlation this dimension holds\n",
        "      # ols_beta = np.matmul(np.transpose(residual) , X[:,idx_out_columns])\n",
        "      ols_beta = (np.conj(X[:,idx_out_columns].T) @ residual)[0,0]\n",
        "\n",
        "      normalizer = (np.conj(X[:,idx_out_columns].T) @ X[:,idx_out_columns])[0,0]\n",
        "      ols_beta = ols_beta/np.round(normalizer,1)\n",
        "      # lambda2 = lambda1/normalizer\n",
        "\n",
        "      # Update beta[i] via soft-thresholding\n",
        "      # beta[i] = compute_soft_thresholding(ols_beta, lambda2)\n",
        "      beta[i] = ols_beta\n",
        "\n",
        "    num_iterations = num_iterations + 1\n",
        "\n",
        "  return beta\n",
        "\n",
        "\n",
        "def compute_soft_thresholding(ols_beta, lambda1):\n",
        "  if ols_beta > lambda1:\n",
        "    return ols_beta + (lambda1)\n",
        "  elif ols_beta < lambda1:\n",
        "    return ols_beta - (lambda1)\n",
        "  else:\n",
        "    return 0"
      ],
      "execution_count": 3,
      "outputs": []
    },
    {
      "cell_type": "code",
      "metadata": {
        "id": "mf-Hm4W_NUZd"
      },
      "source": [
        "# Antenna Parameters:\n",
        "\n",
        "num_antennas = 8\n",
        "f0 = 77 * 10**9        # 77GHz\n",
        "lambda1 = (3*10**8)/f0\n",
        "\n",
        "spacing = lambda1/2;"
      ],
      "execution_count": 4,
      "outputs": []
    },
    {
      "cell_type": "code",
      "metadata": {
        "colab": {
          "base_uri": "https://localhost:8080/",
          "height": 231
        },
        "id": "HzvQJZCmnCvC",
        "outputId": "c5735f3d-3b4c-4ffa-e63c-aa7a28f6dc55"
      },
      "source": [
        "# Weight vector for debugging\n",
        "weight_vector = [1,1.97831590137716,3.09652556013193,3.81364267157990,3.81364267157990,3.09652556013193,1.97831590137716,1];\n",
        "weight_vector = np.round(weight_vector,4)\n",
        "\n",
        "b = X@weight_vector.T\n",
        "\n",
        "print(np.shape(b))"
      ],
      "execution_count": 5,
      "outputs": [
        {
          "output_type": "error",
          "ename": "NameError",
          "evalue": "ignored",
          "traceback": [
            "\u001b[0;31m---------------------------------------------------------------------------\u001b[0m",
            "\u001b[0;31mNameError\u001b[0m                                 Traceback (most recent call last)",
            "\u001b[0;32m<ipython-input-5-1a9592a18e2f>\u001b[0m in \u001b[0;36m<module>\u001b[0;34m()\u001b[0m\n\u001b[1;32m      3\u001b[0m \u001b[0mweight_vector\u001b[0m \u001b[0;34m=\u001b[0m \u001b[0mnp\u001b[0m\u001b[0;34m.\u001b[0m\u001b[0mround\u001b[0m\u001b[0;34m(\u001b[0m\u001b[0mweight_vector\u001b[0m\u001b[0;34m,\u001b[0m\u001b[0;36m4\u001b[0m\u001b[0;34m)\u001b[0m\u001b[0;34m\u001b[0m\u001b[0;34m\u001b[0m\u001b[0m\n\u001b[1;32m      4\u001b[0m \u001b[0;34m\u001b[0m\u001b[0m\n\u001b[0;32m----> 5\u001b[0;31m \u001b[0mb\u001b[0m \u001b[0;34m=\u001b[0m \u001b[0mX\u001b[0m\u001b[0;34m@\u001b[0m\u001b[0mweight_vector\u001b[0m\u001b[0;34m.\u001b[0m\u001b[0mT\u001b[0m\u001b[0;34m\u001b[0m\u001b[0;34m\u001b[0m\u001b[0m\n\u001b[0m\u001b[1;32m      6\u001b[0m \u001b[0;34m\u001b[0m\u001b[0m\n\u001b[1;32m      7\u001b[0m \u001b[0mprint\u001b[0m\u001b[0;34m(\u001b[0m\u001b[0mnp\u001b[0m\u001b[0;34m.\u001b[0m\u001b[0mshape\u001b[0m\u001b[0;34m(\u001b[0m\u001b[0mb\u001b[0m\u001b[0;34m)\u001b[0m\u001b[0;34m)\u001b[0m\u001b[0;34m\u001b[0m\u001b[0;34m\u001b[0m\u001b[0m\n",
            "\u001b[0;31mNameError\u001b[0m: name 'X' is not defined"
          ]
        }
      ]
    },
    {
      "cell_type": "code",
      "metadata": {
        "id": "O4lDvtDUEXTu"
      },
      "source": [
        "# Preparing the transformation matrix\n",
        "num_antennas = 8\n",
        "num_angles = len(a)\n",
        "# num_angles = 315\n",
        "\n",
        "X = np.zeros([num_angles, num_antennas], dtype=complex)\n",
        "angles = np.arange(-math.pi/2, math.pi/2,0.01)\n",
        "\n",
        "for i in range(num_angles):\n",
        "  for k in range(num_antennas):\n",
        "    X[i,k] = np.round(e**(1j* k * math.sin(angles[i]) * 2*(math.pi/lambda1) * spacing),4)\n",
        "\n",
        "beta_predicted = np.zeros([num_antennas,1], dtype=complex)\n",
        "\n",
        "# Fixing lambda1 as zero will perform Co-ordinate descent algorithm without LASSO\n",
        "beta_predicted = coordinate_descent_function(X,a,0, 100)\n",
        "\n",
        "beta_predicted = np.round(beta_predicted,4)"
      ],
      "execution_count": 15,
      "outputs": []
    },
    {
      "cell_type": "code",
      "metadata": {
        "colab": {
          "base_uri": "https://localhost:8080/"
        },
        "id": "abmZ-eGEDLOP",
        "outputId": "64506a5f-3a2d-4a79-8706-972d4e8d11e8"
      },
      "source": [
        "print(np.shape(a))"
      ],
      "execution_count": 10,
      "outputs": [
        {
          "output_type": "stream",
          "text": [
            "(1,)\n"
          ],
          "name": "stdout"
        }
      ]
    },
    {
      "cell_type": "code",
      "metadata": {
        "id": "EUCg89mApDJa",
        "colab": {
          "base_uri": "https://localhost:8080/"
        },
        "outputId": "26c9cf85-f9b3-4f6e-e9f4-04bd613cd269"
      },
      "source": [
        "print(beta_predicted)\n"
      ],
      "execution_count": 16,
      "outputs": [
        {
          "output_type": "stream",
          "text": [
            "[[1.    +0.j]\n",
            " [1.9783+0.j]\n",
            " [3.0965+0.j]\n",
            " [3.8137+0.j]\n",
            " [3.8136+0.j]\n",
            " [3.0965+0.j]\n",
            " [1.9783+0.j]\n",
            " [1.    +0.j]]\n"
          ],
          "name": "stdout"
        }
      ]
    }
  ]
}