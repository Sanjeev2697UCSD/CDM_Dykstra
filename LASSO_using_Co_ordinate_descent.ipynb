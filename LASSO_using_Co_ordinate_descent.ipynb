{
  "nbformat": 4,
  "nbformat_minor": 0,
  "metadata": {
    "colab": {
      "name": "LASSO using Co-ordinate descent.ipynb",
      "provenance": [],
      "collapsed_sections": [],
      "include_colab_link": true
    },
    "kernelspec": {
      "display_name": "Python 3",
      "name": "python3"
    },
    "language_info": {
      "name": "python"
    }
  },
  "cells": [
    {
      "cell_type": "markdown",
      "metadata": {
        "id": "view-in-github",
        "colab_type": "text"
      },
      "source": [
        "<a href=\"https://colab.research.google.com/github/Sanjeev2697UCSD/CDM_Dykstra/blob/main/LASSO_using_Co_ordinate_descent.ipynb\" target=\"_parent\"><img src=\"https://colab.research.google.com/assets/colab-badge.svg\" alt=\"Open In Colab\"/></a>"
      ]
    },
    {
      "cell_type": "markdown",
      "metadata": {
        "id": "5TRwIYa_MWJt"
      },
      "source": [
        "Importing the required library files\n",
        "\n"
      ]
    },
    {
      "cell_type": "code",
      "metadata": {
        "id": "iw5EmWcrfXQ3"
      },
      "source": [
        "import numpy as np\n",
        "from matplotlib import pyplot as plt\n",
        "import sklearn.datasets as dt\n",
        "import cvxpy as cp\n",
        "import time"
      ],
      "execution_count": 1,
      "outputs": []
    },
    {
      "cell_type": "markdown",
      "metadata": {
        "id": "ieX5juc-MhaD"
      },
      "source": [
        "**Definition of Co-ordinate Descent Algorithm for LASSO:**\n",
        "\n",
        "The Algorithm for implementation of LASSO is taken from the [lecture notes](https://www.cs.cmu.edu/~ggordon/10725-F12/slides/25-coord-desc.pdf) of Prof. Ryan Tibshirani.\n",
        "\n",
        "**About Co-ordinate Descent Algorithm:**\n",
        "\n",
        "\n",
        "> Let us assume that we are given an unconstrained convex diffrentiable function which needs to be minimized. The true definition of the minimizer is that the partial derivative of the function along each dimension at minimizer is zero. We leverage this information where we try to perform minimization across each dimension. This is the core idea behind Co-ordinate Descent Algorithm.\n",
        "\n",
        "**Co-ordinate Descent Algorithm for LASSO:**\n",
        "\n",
        "One can perform Co-ordinate descent in blocks (two or three columns / dimensions simultaneously) which are linearly independent of each other. Here, in this implementation, we take an iterative approach where each iteration corresponds to one dimension and we cycle through the dimensions for a few number of iterations. The order of time complexity here is O(mn) where n is the number of dimensions and m is the number of iterations the algorithm is carried out.\n",
        "\n",
        "**Equation for Co-ordinate descent update in the LASSO problem:**\n",
        "\n",
        "The primal problem for LASSO is minimize the following convex problem\n",
        "\n",
        "$1/2 * ||y - X*beta|| + lambda * ||beta||_1$\n",
        "\n",
        "over all $beta \\; \\varepsilon \\; R^p$ where\n",
        "\n",
        "1.   $beta$ is the feature vector belongs to $R^{p*1}$\n",
        "2.   $y$ is the observation vector belongs to $R^{N*1}$\n",
        "3.   $X$ is the transformation matrix or predictor matrix of dimension $R^{N*p}$\n",
        "4.   $lambda$ is the hyperparameter or regularization parameter which scales the penalty in case of error to the objective function.\n",
        "\n",
        "The update for a beta is given by:\n",
        "\n",
        " \n",
        "  $beta_i = (X_i^T(y - X_{-i}*beta_{-i}))/(X_i^T*X_i) $\n",
        "\n",
        " where\n",
        "\n",
        "*   $i$ is the feature which is under update.\n",
        "\n",
        "As we see here, the penalty function here is the $||beta||$ which is not diffrentiable at $beta \\; = \\; 0$. We take into account of the sub-differential at $beta \\; = \\; 0$ which states that the derivative of $||beta||$ over $beta$ can take a value between $[-1, 1]$. \n",
        "\n",
        "\n",
        "\n",
        "\n",
        "\n",
        "\n",
        "\n",
        "\n",
        "\n",
        "\n",
        "\n",
        "\n"
      ]
    },
    {
      "cell_type": "code",
      "metadata": {
        "id": "BFfbN63k5tbf"
      },
      "source": [
        "def coordinate_descent_function(X,y,lambda1, MAX_ITERATIONS):\n",
        "  # initialize Beta vector = 0\n",
        "  N = np.size(y)\n",
        "  p = np.shape(X)[1]\n",
        "  y = y.reshape(N, 1)\n",
        "  beta = np.zeros([p,1])\n",
        "  num_iterations = 0;\n",
        "  while(num_iterations <= MAX_ITERATIONS):\n",
        "    for i in range(p):\n",
        "      idx_out_columns = [i]\n",
        "      idx_in_columns = [j for j in range(p) if j not in idx_out_columns]\n",
        "      X_r = X[:,idx_in_columns]\n",
        "      beta_r = beta[idx_in_columns,]\n",
        "      residual = y - np.matmul(X_r, beta_r)[:,]\n",
        "\n",
        "      # Computing the inner product to figure out how much magnitude of correlation this dimension holds\n",
        "      # ols_beta = np.matmul(np.transpose(residual) , X[:,idx_out_columns])\n",
        "      ols_beta = (X[:,idx_out_columns].T @ residual)[0,0]\n",
        "\n",
        "      normalizer = (X[:,idx_out_columns].T @ X[:,idx_out_columns])[0,0]\n",
        "      ols_beta = ols_beta/normalizer\n",
        "      lambda2 = lambda1/normalizer\n",
        "\n",
        "      # Update beta[i] via soft-thresholding\n",
        "      beta[i] = compute_soft_thresholding(ols_beta, lambda2)\n",
        "    \n",
        "    num_iterations = num_iterations + 1\n",
        "  return beta\n",
        "\n",
        "\n",
        "def compute_soft_thresholding(ols_beta, lambda1):\n",
        "  if ols_beta > lambda1:\n",
        "    return ols_beta - (lambda1)\n",
        "  elif ols_beta < -1*lambda1:\n",
        "    return ols_beta + (lambda1)\n",
        "  else:\n",
        "    return 0"
      ],
      "execution_count": 2,
      "outputs": []
    },
    {
      "cell_type": "code",
      "metadata": {
        "id": "HgGDVH-1dSoO"
      },
      "source": [
        "def lasso_dual(X,y,lambda1, MAX_ITERATIONS):\n",
        "  # Implementing the CVX version of the LASSO dual problem:\n",
        "  # X -> N xp\n",
        "  # y -> N x1\n",
        "  # u[i,:] -> 1xN where i is from 0 to 2p. Therefore, there are 2p + 1 rows\n",
        "  # u -> 2pxN . Similar for z\n",
        "\n",
        "  N = np.size(y)           # num_observations      \n",
        "  # p = N\n",
        "  p = np.size(X,1)\n",
        "\n",
        "  y = y.reshape(len(y),1)\n",
        "  print(np.shape(X))\n",
        "  print(np.shape(y))\n",
        "\n",
        "  # u_prev = y;\n",
        "  # z_prev = np.zeros((2*p,N));\n",
        "  u = np.zeros((2*p + 1,N));\n",
        "  u[2*p,:] = y.T;\n",
        "  z = np.zeros((2*p + 1,N));\n",
        "  iteration = 0;\n",
        "  while iteration <= MAX_ITERATIONS:\n",
        "    u[0,:] =  u[2*p,:];\n",
        "    for i in range(1,2*p+1):\n",
        "      # u[i] = cvx_solver_dual(u[i-1] + z_prev[i], X[i,].T, lambda1)\n",
        "      u[i,:] = cvx_solver_dual((u[i-1,:] + z[i,:]).T, X[:,i%p], lambda1, i,p, N)\n",
        "      z[i,:] = u[i-1,:] + z[i,:] - u[i,:]\n",
        "    # u_prev = u\n",
        "    # z_prev = z\n",
        "    iteration = iteration + 1\n",
        "\n",
        "  return u[2*p,:]"
      ],
      "execution_count": 3,
      "outputs": []
    },
    {
      "cell_type": "code",
      "metadata": {
        "id": "JcqB-HuChLW6"
      },
      "source": [
        "def cvx_solver_dual(y, X, lambda1, i, p,N):\n",
        "  # Implementing the CVX version of the same problem\n",
        "  theta = cp.Variable((N,1))\n",
        "  y = y.reshape(len(y),1)\n",
        "  X = X.reshape(len(X),1)\n",
        "  # objective = cp.Minimize(cp.norm(y-theta,2)**2)\n",
        "  objective = cp.Minimize(cp.sum_squares(y-theta))\n",
        "  # constraints = [0 <= beta_pcvx, beta_pcvx <= 1]\n",
        "  # constraints = [constraint * x <= lambda1, -1 * lambda1 <= constraint *x]\n",
        "  if i <= p:\n",
        "    constraints = [X.T @ theta <= lambda1]\n",
        "  else:\n",
        "    constraints = [-1*lambda1 <= X.T @ theta]\n",
        "  prob = cp.Problem(objective, constraints)\n",
        "  result = prob.solve()\n",
        "\n",
        "  return (theta.value).T"
      ],
      "execution_count": 4,
      "outputs": []
    },
    {
      "cell_type": "code",
      "metadata": {
        "id": "7UhvIjv5WBo4"
      },
      "source": [
        "def cvx_optimizer(X, y, lambda1):\n",
        "  # Implementing the CVX version of the same problem\n",
        "  p = np.size(X,1)\n",
        "  beta_pcvx = cp.Variable(p)\n",
        "  objective = cp.Minimize(cp.sum_squares(X*beta_pcvx - y) + lambda1*cp.norm1(beta_pcvx))\n",
        "  # constraints = [0 <= beta_pcvx, beta_pcvx <= 1]\n",
        "  constraints = []\n",
        "  prob = cp.Problem(objective, constraints)\n",
        "  result = prob.solve()\n",
        "\n",
        "  return beta_pcvx.value"
      ],
      "execution_count": 5,
      "outputs": []
    },
    {
      "cell_type": "code",
      "metadata": {
        "id": "nuQu3X3ACA57"
      },
      "source": [
        "def compute_loss_function(beta, beta_predicted):\n",
        "  beta = beta.reshape(len(beta),1)\n",
        "  beta_predicted = beta_predicted.reshape(len(beta_predicted),1)\n",
        "  return (beta - beta_predicted).T @ (beta - beta_predicted)"
      ],
      "execution_count": 6,
      "outputs": []
    },
    {
      "cell_type": "code",
      "metadata": {
        "id": "jdXz6NCsY3VR"
      },
      "source": [
        "# Generation of dataset (synthetic dataset)\n",
        "# Normal distribution of random variables:\n",
        "\n",
        "def generate_dataset(dataset_type, *args):\n",
        "  if dataset_type == 0:\n",
        "    # Generate a dataset from sklearn dataset\n",
        "    dataset = dt.load_diabetes()\n",
        "    X,y = dataset.data, dataset.target\n",
        "    return X,y\n",
        "  else:\n",
        "    N = args[0]     # Number of observations\n",
        "    p = args[1]     # Number of features\n",
        "    sigma = args[2] # The Variance of the samples in the transformation matrix\n",
        "    mu = args[3]    # The mean of the samples in the transformation matrix\n",
        "    s = args[4]  # Probability of generating a 1 in the beta vector\n",
        "\n",
        "    X = sigma*np.random.randn(N,p) + mu\n",
        "    \n",
        "    y, beta = generate_beta(X,s)\n",
        "\n",
        "    return X,y,beta\n",
        "\n",
        "def rand_bin_array(K, N):\n",
        "    arr = np.zeros(N)\n",
        "    arr[:K]  = 1 # 111000000\n",
        "    np.random.shuffle(arr) # 001100100\n",
        "    return arr"
      ],
      "execution_count": 7,
      "outputs": []
    },
    {
      "cell_type": "code",
      "metadata": {
        "id": "wQUe6gmD2oJe"
      },
      "source": [
        "# Generation of a random feature vector beta in presence of transformation matrix X\n",
        "\n",
        "def generate_beta(X, s):\n",
        "  N = np.shape(X)[0]\n",
        "  p = np.shape(X)[1]\n",
        "  random_vector = np.random.rand(p,1)*10   # Multiplication by sigma\n",
        "  beta = rand_bin_array(s,p)\n",
        "  beta = np.multiply(random_vector.T, beta).T\n",
        "\n",
        "  y = np.matmul(X, beta)\n",
        "\n",
        "  beta = beta.reshape(p,)\n",
        "\n",
        "  return y,beta\n"
      ],
      "execution_count": 8,
      "outputs": []
    },
    {
      "cell_type": "code",
      "metadata": {
        "id": "ldvCLXxCX3a5"
      },
      "source": [
        "# Dataset generator and Tester code (sample):\n",
        "\n",
        "DATASET_TYPE = 1   # 1 for synthetic dataset and 0 for dataset from sklearn\n",
        "NOISE_INCLUDE = 1  \n",
        "N = 6             # num_observations\n",
        "p = 10              # num_features\n",
        "\n",
        "# Synthetic dataset related variables\n",
        "\n",
        "sigma = 10\n",
        "mu = 0\n",
        "s = 5\n",
        "\n",
        "if DATASET_TYPE:\n",
        "  X,y,beta = generate_dataset(DATASET_TYPE, N, p, sigma, mu, s)\n",
        "else:\n",
        "  X,y = generate_dataset(0,)\n",
        "\n",
        "if NOISE_INCLUDE:\n",
        "  # Adding noise to the output signal\n",
        "  y = y + np.random.randn(N, 1)"
      ],
      "execution_count": 27,
      "outputs": []
    },
    {
      "cell_type": "code",
      "metadata": {
        "id": "qmnOS28U1urK",
        "colab": {
          "base_uri": "https://localhost:8080/"
        },
        "outputId": "b5f83b8c-fbca-4496-bac8-454a32c82c99"
      },
      "source": [
        "\n",
        "# Choosing lambda w.r.t noise variance\n",
        "lambda1 = 1\n",
        "MAX_ITERATIONS  = 70000\n",
        "\n",
        "# Co-ordinate descent:\n",
        "beta_predicted_cdm = coordinate_descent_function(X,y, lambda1, MAX_ITERATIONS)\n",
        "objective_function_cdm = 0.5 * ((y - X@beta_predicted_cdm).T@(y - X@beta_predicted_cdm)) + lambda1 * np.sum(abs(beta_predicted_cdm))\n",
        "\n",
        "# CVX solver:\n",
        "beta_cvx_optimizer = cvx_optimizer(X,y[:,0], lambda1)\n",
        "\n",
        "\n",
        "# Lasso dual:\n",
        "theta_predicted_lasso = lasso_dual(X,y,lambda1, 3000)\n",
        "theta_predicted_lasso = theta_predicted_lasso.reshape(len(theta_predicted_lasso),1)\n",
        "objective_function_lasso = 0.5*((y.T@y) - ((y - theta_predicted_lasso).T@(y - theta_predicted_lasso)))\n",
        "\n",
        "# print(y - X @ beta_predicted_cdm)\n",
        "# print(\"2.\")\n",
        "# print(theta_predicted_lasso)"
      ],
      "execution_count": 28,
      "outputs": [
        {
          "output_type": "stream",
          "text": [
            "(6, 10)\n",
            "(6, 1)\n"
          ],
          "name": "stdout"
        }
      ]
    },
    {
      "cell_type": "code",
      "metadata": {
        "colab": {
          "base_uri": "https://localhost:8080/"
        },
        "id": "WvjuNHtCwPIR",
        "outputId": "ca779c73-418d-4582-a370-b451b3a216c5"
      },
      "source": [
        "print(np.shape(theta_predicted_lasso))"
      ],
      "execution_count": null,
      "outputs": [
        {
          "output_type": "stream",
          "text": [
            "(6, 1)\n"
          ],
          "name": "stdout"
        }
      ]
    },
    {
      "cell_type": "code",
      "metadata": {
        "colab": {
          "base_uri": "https://localhost:8080/"
        },
        "id": "sZWQLMh5ABiN",
        "outputId": "68386257-8dde-46ee-99c5-d33a93b5b72b"
      },
      "source": [
        "print(\"LASSO minimizer (primal)\")\n",
        "print(objective_function_cdm)\n",
        "print(\"LASSO minimizer (dual)\")\n",
        "print(objective_function_lasso)"
      ],
      "execution_count": null,
      "outputs": [
        {
          "output_type": "stream",
          "text": [
            "LASSO minimizer (primal)\n",
            "[[106.8427989]]\n",
            "LASSO minimizer (dual)\n",
            "[[104.84712392]]\n"
          ],
          "name": "stdout"
        }
      ]
    },
    {
      "cell_type": "markdown",
      "metadata": {
        "id": "T1yercVY_DEo"
      },
      "source": [
        "Comparison between primal and dual solutions."
      ]
    },
    {
      "cell_type": "code",
      "metadata": {
        "colab": {
          "base_uri": "https://localhost:8080/"
        },
        "id": "T05eeU9ftQjl",
        "outputId": "430fdd36-e81d-48c8-c159-2456816959e6"
      },
      "source": [
        "print('Dual')\n",
        "print(theta_predicted_lasso)\n",
        "print('primal')\n",
        "print(y - X@beta_predicted_cdm)\n",
        "x2 = y - X@beta_predicted_cdm\n"
      ],
      "execution_count": 29,
      "outputs": [
        {
          "output_type": "stream",
          "text": [
            "Dual\n",
            "[[ 0.0122329 ]\n",
            " [ 0.02528404]\n",
            " [ 0.00988566]\n",
            " [-0.0265992 ]\n",
            " [ 0.05632944]\n",
            " [ 0.05811656]]\n",
            "primal\n",
            "[[ 0.01129794]\n",
            " [ 0.01774957]\n",
            " [ 0.0136876 ]\n",
            " [-0.03132718]\n",
            " [ 0.05498977]\n",
            " [ 0.05292471]]\n"
          ],
          "name": "stdout"
        }
      ]
    },
    {
      "cell_type": "code",
      "metadata": {
        "colab": {
          "base_uri": "https://localhost:8080/"
        },
        "id": "RhF3F2y5Qfk1",
        "outputId": "914c9075-27da-4bba-b8e4-0f3c8555ab39"
      },
      "source": [
        "# Post-processing analysis of Co-ordinate Descent Method:\n",
        "\n",
        "print('Predicted')\n",
        "print(beta_predicted_cdm)\n",
        "\n",
        "print('Actual')\n",
        "print(beta)\n",
        "\n",
        "print('CVX solver')\n",
        "print(beta_cvx_optimizer)\n",
        "\n",
        "error = compute_loss_function(beta, beta_predicted_cdm)\n",
        "print('Error')\n",
        "print(error)\n",
        "\n",
        "beta_predicted_cdm_norm = beta_predicted_cdm / np.max(beta_predicted_cdm)\n",
        "num_zeros = len([0 for i in beta_predicted_cdm_norm if i < 0.01])\n",
        "print(beta_predicted_cdm)\n",
        "\n",
        "\n",
        "print('Number of non-zero elements: ')\n",
        "print(p - num_zeros)\n",
        "\n",
        "print('Using inverse')\n",
        "print(np.linalg.pinv(X)@y)"
      ],
      "execution_count": null,
      "outputs": [
        {
          "output_type": "stream",
          "text": [
            "Predicted\n",
            "[[-0.01322907]\n",
            " [-0.03864653]\n",
            " [-0.02381943]\n",
            " [-0.00846776]\n",
            " [ 0.02655011]\n",
            " [ 0.00898827]\n",
            " [-0.05085125]\n",
            " [ 5.08202957]\n",
            " [ 0.12882092]\n",
            " [-0.01191998]]\n",
            "Actual\n",
            "[0.         0.         0.         0.         0.         0.\n",
            " 0.         5.09214451 0.1250065  0.        ]\n",
            "CVX solver\n",
            "[-0.01374767 -0.03887778 -0.02464254 -0.00877668  0.02679681  0.00920137\n",
            " -0.05112626  5.08256377  0.12960954 -0.01246381]\n",
            "Error\n",
            "[[0.00593813]]\n",
            "[[-0.01322907]\n",
            " [-0.03864653]\n",
            " [-0.02381943]\n",
            " [-0.00846776]\n",
            " [ 0.02655011]\n",
            " [ 0.00898827]\n",
            " [-0.05085125]\n",
            " [ 5.08202957]\n",
            " [ 0.12882092]\n",
            " [-0.01191998]]\n",
            "Number of non-zero elements: \n",
            "2\n",
            "Using inverse\n",
            "[[-0.01426627]\n",
            " [-0.03910902]\n",
            " [-0.02546565]\n",
            " [-0.0090856 ]\n",
            " [ 0.0270435 ]\n",
            " [ 0.00941447]\n",
            " [-0.05140128]\n",
            " [ 5.08309797]\n",
            " [ 0.13039816]\n",
            " [-0.01300765]]\n"
          ],
          "name": "stdout"
        }
      ]
    },
    {
      "cell_type": "code",
      "metadata": {
        "colab": {
          "base_uri": "https://localhost:8080/"
        },
        "id": "bZ52GT4GwNrd",
        "outputId": "34238dd8-62ea-459d-ad40-b299773ad97a"
      },
      "source": [
        "# print(y - X @ beta_predicted_cdm)\n",
        "# print()\n",
        "print(theta_predicted_lasso - (y - X @ beta_predicted_cdm))"
      ],
      "execution_count": null,
      "outputs": [
        {
          "output_type": "stream",
          "text": [
            "[[ 0.1453006 ]\n",
            " [ 0.57147267]\n",
            " [-0.65302984]\n",
            " [ 0.29605642]\n",
            " [-0.71905269]\n",
            " [-0.40741289]\n",
            " [ 0.09133391]\n",
            " [ 0.00320086]\n",
            " [ 0.02431331]\n",
            " [ 0.29373709]]\n"
          ],
          "name": "stdout"
        }
      ]
    },
    {
      "cell_type": "code",
      "metadata": {
        "colab": {
          "base_uri": "https://localhost:8080/"
        },
        "id": "XRJfdJlPWTV2",
        "outputId": "55426447-3b73-4dfd-d1b5-dff1b328b6dc"
      },
      "source": [
        "objective_function_lasso = 0.5*((y.T@y) - ((y - theta_predicted_lasso).T@(y - theta_predicted_lasso)))\n",
        "objective_function_cdm = 0.5 * ((y - X@beta_predicted_cdm).T@(y - X@beta_predicted_cdm)) + lambda1 * np.sum(abs(beta_predicted_cdm))\n",
        "print(objective_function_cdm)\n",
        "print(objective_function_lasso)"
      ],
      "execution_count": null,
      "outputs": [
        {
          "output_type": "stream",
          "text": [
            "[[157.95575018]]\n",
            "[[-209.02831186]]\n"
          ],
          "name": "stdout"
        }
      ]
    },
    {
      "cell_type": "code",
      "metadata": {
        "colab": {
          "base_uri": "https://localhost:8080/"
        },
        "id": "IAml6GveAwVh",
        "outputId": "32143bc7-d540-4dd6-9931-ef4c02695f6a"
      },
      "source": [
        "print(\"Feature vector (original)\")\n",
        "print(beta.T)\n",
        "print(\"Feature vector using LASSO primal\")\n",
        "print(beta_predicted_cdm.T)\n",
        "print(\"Feature vector using CVX solver\")\n",
        "print(beta_cvx_optimizer.value.T)"
      ],
      "execution_count": null,
      "outputs": [
        {
          "output_type": "stream",
          "text": [
            "Feature vector (original)\n",
            "[[0. 0. 0. 0. 1. 0. 1. 0.]]\n",
            "Feature vector using LASSO primal\n",
            "[[-6.85981823e-02 -9.74432165e-04  1.03074699e-01 -5.62619872e-02\n",
            "   1.06126502e+00 -1.15658162e-01  1.05838785e+00 -5.20130286e-02]]\n",
            "Feature vector using CVX solver\n",
            "[-6.28153232e-02 -4.92024168e-19  9.45267978e-02 -4.91095158e-02\n",
            "  1.05634515e+00 -1.02967223e-01  1.05297329e+00 -4.37645095e-02]\n"
          ],
          "name": "stdout"
        }
      ]
    },
    {
      "cell_type": "code",
      "metadata": {
        "id": "5iBuKbIk-lu3"
      },
      "source": [
        "# Variation parameter : N (num_observations)\n",
        "# Here num_features is assumed to be 1000 (Inspired from Riboflavin dataset). The Number of observations is varied from 70 to 2000 in steps of 10.\n",
        "# The number of non-zero elements is fixed at 40 out 1000 features.\n",
        "\n",
        "DATASET_TYPE = 1   # 1 for synthetic dataset and 0 for dataset from sklearn\n",
        "NOISE_INCLUDE = 1  \n",
        "\n",
        "num_observations_min = 2;\n",
        "num_observations_max = 24;\n",
        "step_size = 2;\n",
        "\n",
        "N = np.arange(num_observations_min, num_observations_max, step_size)        # num_observations\n",
        "p = 100                                                                      # num_features\n",
        "\n",
        "# Synthetic dataset related variables\n",
        "\n",
        "sigma = 10         # Variance of the transformation matrix (X)\n",
        "mu = 0             # Mean of the transformation matrix (X)\n",
        "s = 4              # number of non-zero elements\n",
        "num_passes = 1\n",
        "\n",
        "iteration  = 0\n",
        "\n",
        "# Initialization:\n",
        "beta = np.zeros([p, len(N)])\n",
        "beta_predicted_cdm = np.zeros([p, len(N)])\n",
        "beta_cvx_optimizer = np.zeros([p,len(N)])\n",
        "error_cdm = np.zeros([len(N)])\n",
        "objective_function_cdm = np.zeros([len(N)])\n",
        "time_interval_cdm = np.zeros([len(N)])\n",
        "time_interval_cvx = np.zeros([len(N)])\n",
        "support_recovery = np.zeros([p, len(N)])\n",
        "num_non_zeros_predicted = np.zeros(len(N))\n",
        "\n",
        "for i in N:\n",
        "  GENERATE_ALL = True\n",
        "  for n in range(num_passes):\n",
        "    if DATASET_TYPE and GENERATE_ALL:\n",
        "      X,y,beta[:,iteration] = generate_dataset(DATASET_TYPE, i, p, sigma, mu, s)\n",
        "      GENERATE_ALL = False\n",
        "    elif DATASET_TYPE and ~GENERATE_ALL:\n",
        "        y, beta[:,iteration] = generate_beta(X,s)\n",
        "\n",
        "    if NOISE_INCLUDE:\n",
        "      # Adding noise to the output signal\n",
        "      y = y + np.random.randn(i, 1)\n",
        "\n",
        "    # Choosing lambda w.r.t noise variance\n",
        "    lambda1 = 2\n",
        "    MAX_ITERATIONS  = 70000\n",
        "\n",
        "\n",
        "    # Co-ordinate descent:\n",
        "    time_start_cdm = time.time()\n",
        "    beta_predicted_cdm[:,iteration] = coordinate_descent_function(X,y, lambda1, MAX_ITERATIONS).reshape(p,)\n",
        "    time_interval_cdm[iteration] = time.time() - time_start_cdm\n",
        "\n",
        "    objective_function_cdm[iteration] = 0.5 * ((y - X@beta_predicted_cdm[:,iteration].reshape(p, 1)).T@(y - X@beta_predicted_cdm[:,iteration].reshape(p, 1))) + lambda1 * np.sum(abs(beta_predicted_cdm[:,iteration].reshape(p, 1)))\n",
        "\n",
        "    # CVX solver:\n",
        "    # if i > 14:\n",
        "    #   time_start_cvx = time.time()\n",
        "    #   beta_cvx_optimizer[:,iteration] = cvx_optimizer(X,y[:,0], lambda1).T\n",
        "    #   time_interval_cvx[iteration] = time.time() - time_start_cvx\n",
        "\n",
        "    # Post-processing:\n",
        "    \n",
        "    # L2 loss:\n",
        "    error_cdm[iteration] = error_cdm[iteration] + compute_loss_function(beta[:, iteration], beta_predicted_cdm[:, iteration])\n",
        "    # Support recovery:\n",
        "\n",
        "    for j in range(0, p):\n",
        "      if beta[j,iteration] == 0:\n",
        "        if abs(beta_predicted_cdm[j, iteration]) < 0.4:\n",
        "          support_recovery[j, iteration] = support_recovery[j, iteration] + 1\n",
        "\n",
        "\n",
        "  support_recovery[:, iteration] = support_recovery[:, iteration] / num_passes\n",
        "  num_non_zeros_predicted[iteration] = np.sum(support_recovery[:,iteration])\n",
        "\n",
        "  error_cdm[iteration] = error_cdm[iteration] / num_passes\n",
        "  iteration = iteration + 1\n",
        "\n"
      ],
      "execution_count": 24,
      "outputs": []
    },
    {
      "cell_type": "code",
      "metadata": {
        "id": "d8z_iIQOao0n"
      },
      "source": [
        "# Saving the data obtained from running the Co-ordinate Descent Algorithm:\n",
        "\n",
        "np.savetxt(fname=\"beta_predicted_cdm.csv\", delimiter=\",\", X=beta_predicted_cdm)\n",
        "np.savetxt(fname=\"beta_original.csv\", delimiter=\",\", X=beta)\n",
        "np.savetxt(fname=\"Time_Interval.csv\", delimiter=\",\", X=time_interval_cdm)\n",
        "np.savetxt(fname=\"support_recovery.csv\", delimiter=\",\", X=support_recovery)\n",
        "np.savetxt(fname=\"error_cdm.csv\", delimiter=\",\", X=error_cdm)"
      ],
      "execution_count": 27,
      "outputs": []
    },
    {
      "cell_type": "code",
      "metadata": {
        "id": "htAC8aDgDnoB"
      },
      "source": [
        "# Variation parameter : N (num_observations)\n",
        "# Here num_features is assumed to be 1000 (Inspired from Riboflavin dataset). The Number of observations is varied from 70 to 2000 in steps of 10.\n",
        "# The number of non-zero elements is fixed at 40 out 1000 features.\n",
        "\n",
        "DATASET_TYPE = 1   # 1 for synthetic dataset and 0 for dataset from sklearn\n",
        "NOISE_INCLUDE = 1  \n",
        "\n",
        "num_observations_min = 2;\n",
        "num_observations_max = 24;\n",
        "step_size = 2;\n",
        "\n",
        "N = np.arange(num_observations_min, num_observations_max, step_size)        # num_observations\n",
        "p = 100                                                                      # num_features\n",
        "\n",
        "# Synthetic dataset related variables\n",
        "\n",
        "sigma = 10         # Variance of the transformation matrix (X)\n",
        "mu = 0             # Mean of the transformation matrix (X)\n",
        "s = 4              # number of non-zero elements\n",
        "num_passes = 1\n",
        "\n",
        "\n",
        "\n",
        "iteration  = 0\n",
        "\n",
        "# Initialization:\n",
        "beta = np.zeros([p, len(N)])\n",
        "beta_cvx_optimizer = np.zeros([p,len(N)])\n",
        "time_interval_cvx = np.zeros([len(N)])\n",
        "error_cvx = np.zeros([len(N)])\n",
        "support_recovery_cvx = np.zeros([p, len(N)])\n",
        "num_non_zeros_predicted_cvx = np.zeros(len(N))\n",
        "\n",
        "\n",
        "for i in N:\n",
        "  GENERATE_ALL = True\n",
        "  for n in range(num_passes):\n",
        "    if DATASET_TYPE and GENERATE_ALL:\n",
        "      X,y,beta[:,iteration] = generate_dataset(DATASET_TYPE, i, p, sigma, mu, s)\n",
        "      GENERATE_ALL = False\n",
        "    elif DATASET_TYPE and ~GENERATE_ALL:\n",
        "        y, beta[:,iteration] = generate_beta(X,s)\n",
        "\n",
        "    if NOISE_INCLUDE:\n",
        "      # Adding noise to the output signal\n",
        "      y = y + np.random.randn(i, 1)\n",
        "\n",
        "    # Choosing lambda w.r.t noise variance\n",
        "    lambda1 = 2\n",
        "\n",
        "    # CVX solver:\n",
        "    # if i > 14:\n",
        "    time_start_cvx = time.time()\n",
        "    beta_cvx_optimizer[:,iteration] = cvx_optimizer(X,y[:,0], lambda1).T\n",
        "    time_interval_cvx[iteration] = time.time() - time_start_cvx\n",
        "\n",
        "      # L2 loss:\n",
        "    error_cvx[iteration] = error_cvx[iteration] + compute_loss_function(beta[:, iteration], beta_cvx_optimizer[:, iteration])\n",
        "    # Support recovery:\n",
        "\n",
        "    for j in range(0, p):\n",
        "      if beta[j,iteration] == 0:\n",
        "        if abs(beta_cvx_optimizer[j, iteration]) < 0.4:\n",
        "          support_recovery_cvx[j, iteration] = support_recovery_cvx[j, iteration] + 1\n",
        "\n",
        "\n",
        "  support_recovery_cvx[:, iteration] = support_recovery_cvx[:, iteration] / num_passes\n",
        "  num_non_zeros_predicted_cvx[iteration] = np.sum(support_recovery_cvx[:,iteration])\n",
        "\n",
        "  error_cvx[iteration] = error_cvx[iteration] / num_passes\n",
        "  iteration = iteration + 1\n"
      ],
      "execution_count": 23,
      "outputs": []
    },
    {
      "cell_type": "code",
      "metadata": {
        "colab": {
          "base_uri": "https://localhost:8080/",
          "height": 530
        },
        "id": "02Gy0FjeTw0x",
        "outputId": "8d510792-0d37-425f-e444-3bd2395df48b"
      },
      "source": [
        "#  Plotting the values obtained:\n",
        "# Co-ordinate Descent Algorithm:\n",
        "\n",
        "# N is varied from 20 to 200 in steps of 10\n",
        "# L2 Loss function plot\n",
        "plt.figure()\n",
        "plt.plot(N,error_cdm)\n",
        "\n",
        "# Support recovery performance\n",
        "plt.figure()\n",
        "plt.plot(N,num_non_zeros_predicted)"
      ],
      "execution_count": 19,
      "outputs": [
        {
          "output_type": "execute_result",
          "data": {
            "text/plain": [
              "[<matplotlib.lines.Line2D at 0x7f97af9bca50>]"
            ]
          },
          "metadata": {
            "tags": []
          },
          "execution_count": 19
        },
        {
          "output_type": "display_data",
          "data": {
            "image/png": "[encoded data removed]",
            "text/plain": [
              "<Figure size 432x288 with 1 Axes>"
            ]
          },
          "metadata": {
            "tags": [],
            "needs_background": "light"
          }
        },
        {
          "output_type": "display_data",
          "data": {
            "image/png": "[encoded data removed]",
            "text/plain": [
              "<Figure size 432x288 with 1 Axes>"
            ]
          },
          "metadata": {
            "tags": [],
            "needs_background": "light"
          }
        }
      ]
    },
    {
      "cell_type": "code",
      "metadata": {
        "colab": {
          "base_uri": "https://localhost:8080/",
          "height": 530
        },
        "id": "Im3AJYDkGfs1",
        "outputId": "813bb756-d13b-4085-df9e-7b4f6f8f194e"
      },
      "source": [
        "#  Plotting the values obtained:\n",
        "# Co-ordinate Descent Algorithm:\n",
        "\n",
        "# N is varied from 2 to 24 in steps of 2\n",
        "# L2 Loss function plot\n",
        "plt.figure()\n",
        "plt.plot(N,error_cdm)\n",
        "\n",
        "# Support recovery performance\n",
        "plt.figure()\n",
        "plt.plot(N,num_non_zeros_predicted)"
      ],
      "execution_count": 26,
      "outputs": [
        {
          "output_type": "execute_result",
          "data": {
            "text/plain": [
              "[<matplotlib.lines.Line2D at 0x7f97af8697d0>]"
            ]
          },
          "metadata": {
            "tags": []
          },
          "execution_count": 26
        },
        {
          "output_type": "display_data",
          "data": {
            "image/png": "[encoded data removed]",
            "text/plain": [
              "<Figure size 432x288 with 1 Axes>"
            ]
          },
          "metadata": {
            "tags": [],
            "needs_background": "light"
          }
        },
        {
          "output_type": "display_data",
          "data": {
            "image/png": "[encoded data removed]",
            "text/plain": [
              "<Figure size 432x288 with 1 Axes>"
            ]
          },
          "metadata": {
            "tags": [],
            "needs_background": "light"
          }
        }
      ]
    },
    {
      "cell_type": "code",
      "metadata": {
        "colab": {
          "base_uri": "https://localhost:8080/",
          "height": 530
        },
        "id": "tnrzlZ1rcVeU",
        "outputId": "33f1dec7-698b-489f-e0f9-eaf794301f8a"
      },
      "source": [
        "#  Plotting the values obtained:\n",
        "# CVX optimizer (QSQP solver):\n",
        "\n",
        "# L2 Loss function plot\n",
        "plt.figure()\n",
        "plt.plot(N,error_cvx)\n",
        "\n",
        "# Support recovery performance\n",
        "plt.figure()\n",
        "plt.plot(N,num_non_zeros_predicted_cvx)"
      ],
      "execution_count": 17,
      "outputs": [
        {
          "output_type": "execute_result",
          "data": {
            "text/plain": [
              "[<matplotlib.lines.Line2D at 0x7f97afb1b8d0>]"
            ]
          },
          "metadata": {
            "tags": []
          },
          "execution_count": 17
        },
        {
          "output_type": "display_data",
          "data": {
            "image/png": "[encoded data removed]",
            "text/plain": [
              "<Figure size 432x288 with 1 Axes>"
            ]
          },
          "metadata": {
            "tags": [],
            "needs_background": "light"
          }
        },
        {
          "output_type": "display_data",
          "data": {
            "image/png": "[encoded data removed]",
            "text/plain": [
              "<Figure size 432x288 with 1 Axes>"
            ]
          },
          "metadata": {
            "tags": [],
            "needs_background": "light"
          }
        }
      ]
    },
    {
      "cell_type": "code",
      "metadata": {
        "colab": {
          "base_uri": "https://localhost:8080/",
          "height": 530
        },
        "id": "qAi67RKiAXbs",
        "outputId": "c39ebc66-9547-44f2-ce44-0ae8650b09ef"
      },
      "source": [
        "# Time Interval Comparison:\n",
        "# Time taken for Co-ordinate descent\n",
        "plt.figure()\n",
        "plt.plot(N,time_interval_cdm)\n",
        "# Time taken by the CVX module\n",
        "plt.figure()\n",
        "plt.plot(time_interval_cvx)\n"
      ],
      "execution_count": 18,
      "outputs": [
        {
          "output_type": "execute_result",
          "data": {
            "text/plain": [
              "[<matplotlib.lines.Line2D at 0x7f97afa63b90>]"
            ]
          },
          "metadata": {
            "tags": []
          },
          "execution_count": 18
        },
        {
          "output_type": "display_data",
          "data": {
            "image/png": "[encoded data removed]",
            "text/plain": [
              "<Figure size 432x288 with 1 Axes>"
            ]
          },
          "metadata": {
            "tags": [],
            "needs_background": "light"
          }
        },
        {
          "output_type": "display_data",
          "data": {
            "image/png": "[encoded data removed]",
            "text/plain": [
              "<Figure size 432x288 with 1 Axes>"
            ]
          },
          "metadata": {
            "tags": [],
            "needs_background": "light"
          }
        }
      ]
    },
    {
      "cell_type": "code",
      "metadata": {
        "id": "525t4mijdgo_"
      },
      "source": [
        "# Saving the data obtained from running the CVXPY module:\n",
        "\n",
        "np.savetxt(fname=\"beta_cvx_optimizer.csv\", delimiter=\",\", X=beta_cvx_optimizer)\n",
        "np.savetxt(fname=\"beta_original_cvx.csv\", delimiter=\",\", X=beta)\n",
        "np.savetxt(fname=\"Time_Interval_cvx.csv\", delimiter=\",\", X=time_interval_cvx)\n",
        "np.savetxt(fname=\"support_recovery_cvx.csv\", delimiter=\",\", X=support_recovery_cvx)\n",
        "np.savetxt(fname=\"error_cvx.csv\", delimiter=\",\", X=error_cvx)"
      ],
      "execution_count": 22,
      "outputs": []
    },
    {
      "cell_type": "code",
      "metadata": {
        "id": "BdMOZqtlrlpl"
      },
      "source": [
        "# Variation parameter: prob (sparsity)\n",
        "# Sparsity of the solution is indirectly varied by changing the probability of the binary random generator (prob)\n",
        "\n",
        "DATASET_TYPE = 1   # 1 for synthetic dataset and 0 for dataset from sklearn\n",
        "NOISE_INCLUDE = 1  \n",
        "\n",
        "num_observations_min = 5;\n",
        "num_observations_max = 90;\n",
        "step_size = 5;\n",
        "\n",
        "s = np.arange(num_observations_min, num_observations_max, step_size)        # num_observations\n",
        "p = 100                                                                      # num_features\n",
        "\n",
        "# Synthetic dataset related variables\n",
        "\n",
        "sigma = 10         # Variance of the transformation matrix (X)\n",
        "mu = 0             # Mean of the transformation matrix (X)\n",
        "N = 50              # number of non-zero elements\n",
        "num_passes = 1\n",
        "\n",
        "iteration  = 0\n",
        "\n",
        "# Initialization:\n",
        "beta = np.zeros([p, len(s)])\n",
        "beta_predicted_cdm = np.zeros([p, len(s)])\n",
        "beta_cvx_optimizer = np.zeros([p,len(s)])\n",
        "error_cdm = np.zeros([len(s)])\n",
        "objective_function_cdm = np.zeros([len(s)])\n",
        "time_interval_cdm = np.zeros([len(s)])\n",
        "time_interval_cvx = np.zeros([len(s)])\n",
        "support_recovery = np.zeros([p, len(s)])\n",
        "num_non_zeros_predicted = np.zeros(len(s))\n",
        "\n",
        "for i in s:\n",
        "  GENERATE_ALL = True\n",
        "  for n in range(num_passes):\n",
        "    if DATASET_TYPE and GENERATE_ALL:\n",
        "      X,y,beta[:,iteration] = generate_dataset(DATASET_TYPE, N, p, sigma, mu, i)\n",
        "      GENERATE_ALL = False\n",
        "    elif DATASET_TYPE and ~GENERATE_ALL:\n",
        "        y, beta[:,iteration] = generate_beta(X,i)\n",
        "\n",
        "    if NOISE_INCLUDE:\n",
        "      # Adding noise to the output signal\n",
        "      y = y + np.random.randn(N, 1)\n",
        "\n",
        "    # Choosing lambda w.r.t noise variance\n",
        "    lambda1 = 2\n",
        "    MAX_ITERATIONS  = 70000\n",
        "\n",
        "\n",
        "    # Co-ordinate descent:\n",
        "    time_start_cdm = time.time()\n",
        "    beta_predicted_cdm[:,iteration] = coordinate_descent_function(X,y, lambda1, MAX_ITERATIONS).reshape(p,)\n",
        "    time_interval_cdm[iteration] = time.time() - time_start_cdm\n",
        "\n",
        "    objective_function_cdm[iteration] = 0.5 * ((y - X@beta_predicted_cdm[:,iteration].reshape(p, 1)).T@(y - X@beta_predicted_cdm[:,iteration].reshape(p, 1))) + lambda1 * np.sum(abs(beta_predicted_cdm[:,iteration].reshape(p, 1)))\n",
        "\n",
        "    # CVX solver:\n",
        "    # if i > 14:\n",
        "    #   time_start_cvx = time.time()\n",
        "    #   beta_cvx_optimizer[:,iteration] = cvx_optimizer(X,y[:,0], lambda1).T\n",
        "    #   time_interval_cvx[iteration] = time.time() - time_start_cvx\n",
        "\n",
        "    # Post-processing:\n",
        "    \n",
        "    # L2 loss:\n",
        "    error_cdm[iteration] = error_cdm[iteration] + compute_loss_function(beta[:, iteration], beta_predicted_cdm[:, iteration])\n",
        "    # Support recovery:\n",
        "\n",
        "    for j in range(0, p):\n",
        "      if beta[j,iteration] == 0:\n",
        "        if abs(beta_predicted_cdm[j, iteration]) < 0.4:\n",
        "          support_recovery[j, iteration] = support_recovery[j, iteration] + 1\n",
        "\n",
        "\n",
        "  support_recovery[:, iteration] = support_recovery[:, iteration] / num_passes\n",
        "  num_non_zeros_predicted[iteration] = np.sum(support_recovery[:,iteration])\n",
        "\n",
        "  error_cdm[iteration] = error_cdm[iteration] / num_passes\n",
        "  iteration = iteration + 1\n",
        "\n"
      ],
      "execution_count": 28,
      "outputs": []
    },
    {
      "cell_type": "code",
      "metadata": {
        "id": "YRhmohgC-s2e"
      },
      "source": [
        "np.savetxt(fname=\"beta_predicted_cdm.csv\", delimiter=\",\", X=beta_predicted_cdm)\n",
        "np.savetxt(fname=\"beta_original.csv\", delimiter=\",\", X=beta)\n",
        "np.savetxt(fname=\"Time_Interval.csv\", delimiter=\",\", X=time_interval_cdm)\n",
        "np.savetxt(fname=\"support_recovery.csv\", delimiter=\",\", X=support_recovery)\n",
        "np.savetxt(fname=\"error_cdm.csv\", delimiter=\",\", X=error_cdm)"
      ],
      "execution_count": 32,
      "outputs": []
    },
    {
      "cell_type": "code",
      "metadata": {
        "colab": {
          "base_uri": "https://localhost:8080/",
          "height": 530
        },
        "id": "e2otnHLw1cE0",
        "outputId": "c0f64464-ba67-465c-9be0-1b98953bce2f"
      },
      "source": [
        "#  Plotting the values obtained:\n",
        "\n",
        "# L2 Loss function plot\n",
        "plt.figure()\n",
        "plt.plot(s,error_cdm)\n",
        "\n",
        "# Support recovery performance\n",
        "plt.figure()\n",
        "plt.plot(s,num_non_zeros_predicted)"
      ],
      "execution_count": 29,
      "outputs": [
        {
          "output_type": "execute_result",
          "data": {
            "text/plain": [
              "[<matplotlib.lines.Line2D at 0x7f97af691f10>]"
            ]
          },
          "metadata": {
            "tags": []
          },
          "execution_count": 29
        },
        {
          "output_type": "display_data",
          "data": {
            "image/png": "[encoded data removed]",
            "text/plain": [
              "<Figure size 432x288 with 1 Axes>"
            ]
          },
          "metadata": {
            "tags": [],
            "needs_background": "light"
          }
        },
        {
          "output_type": "display_data",
          "data": {
            "image/png": "[encoded data removed]",
            "text/plain": [
              "<Figure size 432x288 with 1 Axes>"
            ]
          },
          "metadata": {
            "tags": [],
            "needs_background": "light"
          }
        }
      ]
    },
    {
      "cell_type": "code",
      "metadata": {
        "colab": {
          "base_uri": "https://localhost:8080/",
          "height": 282
        },
        "id": "uldIQP57-4gX",
        "outputId": "ae8b85ae-c93d-40c3-e687-de9826b926d6"
      },
      "source": [
        "plt.figure()\n",
        "plt.plot(s,time_interval_cdm)"
      ],
      "execution_count": 33,
      "outputs": [
        {
          "output_type": "execute_result",
          "data": {
            "text/plain": [
              "[<matplotlib.lines.Line2D at 0x7f97afa0ad90>]"
            ]
          },
          "metadata": {
            "tags": []
          },
          "execution_count": 33
        },
        {
          "output_type": "display_data",
          "data": {
            "image/png": "[encoded data removed]",
            "text/plain": [
              "<Figure size 432x288 with 1 Axes>"
            ]
          },
          "metadata": {
            "tags": [],
            "needs_background": "light"
          }
        }
      ]
    },
    {
      "cell_type": "code",
      "metadata": {
        "id": "1jbN4opc_Vnf"
      },
      "source": [
        "# Variation parameter: p (num_features)\n",
        "# Here num_observations are assumed to be 500. The num_features are varied from 70 to 5000.\n",
        "\n",
        "# Variation parameter: prob (sparsity)\n",
        "# Sparsity of the solution is indirectly varied by changing the probability of the binary random generator (prob)\n",
        "\n",
        "DATASET_TYPE = 1   # 1 for synthetic dataset and 0 for dataset from sklearn\n",
        "NOISE_INCLUDE = 1  \n",
        "\n",
        "num_observations_min = 100;\n",
        "num_observations_max = 300;\n",
        "step_size = 10;\n",
        "\n",
        "p = np.arange(num_observations_min, num_observations_max, step_size)        # num_observations\n",
        "s = 8                                                                       # num_features\n",
        "\n",
        "# Synthetic dataset related variables\n",
        "\n",
        "sigma = 10         # Variance of the transformation matrix (X)\n",
        "mu = 0             # Mean of the transformation matrix (X)\n",
        "N = 24             # number of non-zero elements\n",
        "num_passes = 1\n",
        "\n",
        "iteration  = 0\n",
        "\n",
        "# Initialization:\n",
        "error_cdm = np.zeros([len(p)])\n",
        "objective_function_cdm = np.zeros([len(p)])\n",
        "time_interval_cdm = np.zeros([len(p)])\n",
        "num_non_zeros_predicted = np.zeros(len(p))\n",
        "\n",
        "for i in p:\n",
        "  GENERATE_ALL = True\n",
        "  for n in range(num_passes):\n",
        "    if DATASET_TYPE and GENERATE_ALL:\n",
        "      X,y,beta = generate_dataset(DATASET_TYPE, N, i, sigma, mu, s)\n",
        "      GENERATE_ALL = False\n",
        "    elif DATASET_TYPE and ~GENERATE_ALL:\n",
        "        y, beta = generate_beta(X,s)\n",
        "\n",
        "    if NOISE_INCLUDE:\n",
        "      # Adding noise to the output signal\n",
        "      y = y + np.random.randn(N, 1)\n",
        "\n",
        "    # Choosing lambda w.r.t noise variance\n",
        "    lambda1 = 2\n",
        "    MAX_ITERATIONS  = 70000\n",
        "\n",
        "\n",
        "    # Co-ordinate descent:\n",
        "    time_start_cdm = time.time()\n",
        "    beta_predicted_cdm = coordinate_descent_function(X,y, lambda1, MAX_ITERATIONS).reshape(i,)\n",
        "    time_interval_cdm[iteration] = time.time() - time_start_cdm\n",
        "\n",
        "    objective_function_cdm[iteration] = 0.5 * ((y - X@beta_predicted_cdm.reshape(i, 1)).T@(y - X@beta_predicted_cdm.reshape(i, 1))) + lambda1 * np.sum(abs(beta_predicted_cdm.reshape(i, 1)))\n",
        "\n",
        "\n",
        "    # Post-processing:\n",
        "    \n",
        "    # L2 loss:\n",
        "    error_cdm[iteration] = error_cdm[iteration] + compute_loss_function(beta, beta_predicted_cdm)\n",
        "    # Support recovery:\n",
        "\n",
        "    for j in range(0, i):\n",
        "      if beta[j] == 0:\n",
        "        if abs(beta_predicted_cdm[j]) < 0.4:\n",
        "          num_non_zeros_predicted[iteration] = num_non_zeros_predicted[iteration] + 1\n",
        "\n",
        "\n",
        "  \n",
        "  error_cdm[iteration] = error_cdm[iteration] / num_passes\n",
        "  iteration = iteration + 1\n",
        "\n"
      ],
      "execution_count": 15,
      "outputs": []
    },
    {
      "cell_type": "code",
      "metadata": {
        "colab": {
          "base_uri": "https://localhost:8080/",
          "height": 530
        },
        "id": "nRANyFFcGHQf",
        "outputId": "cbf453e8-5694-4b30-b001-7961c83b78b1"
      },
      "source": [
        "#  Plotting the values obtained:\n",
        "\n",
        "# L2 Loss function plot\n",
        "plt.figure()\n",
        "plt.plot(p,error_cdm)\n",
        "\n",
        "# Support recovery performance\n",
        "plt.figure()\n",
        "plt.plot(p,num_non_zeros_predicted)"
      ],
      "execution_count": 16,
      "outputs": [
        {
          "output_type": "execute_result",
          "data": {
            "text/plain": [
              "[<matplotlib.lines.Line2D at 0x7f3b59da7bd0>]"
            ]
          },
          "metadata": {
            "tags": []
          },
          "execution_count": 16
        },
        {
          "output_type": "display_data",
          "data": {
            "image/png": "[encoded data removed]",
            "text/plain": [
              "<Figure size 432x288 with 1 Axes>"
            ]
          },
          "metadata": {
            "tags": [],
            "needs_background": "light"
          }
        },
        {
          "output_type": "display_data",
          "data": {
            "image/png": "[encoded data removed]",
            "text/plain": [
              "<Figure size 432x288 with 1 Axes>"
            ]
          },
          "metadata": {
            "tags": [],
            "needs_background": "light"
          }
        }
      ]
    },
    {
      "cell_type": "code",
      "metadata": {
        "id": "YPClybcdq59q"
      },
      "source": [
        "np.savetxt(fname=\"Time_Interval.csv\", delimiter=\",\", X=time_interval_cdm)\n",
        "np.savetxt(fname=\"num_non_zeros.csv\", delimiter=\",\", X=num_non_zeros_predicted)\n",
        "np.savetxt(fname=\"error_cdm.csv\", delimiter=\",\", X=error_cdm)"
      ],
      "execution_count": 19,
      "outputs": []
    },
    {
      "cell_type": "code",
      "metadata": {
        "id": "PgR_6jM02JIr"
      },
      "source": [
        "# Variation of lambda1:\n",
        "\n",
        "lambda1 = 1\n",
        "num_iterations = 51\n",
        "beta_predicted = np.zeros([num_iterations,p])\n",
        "for i in range(num_iterations):\n",
        "  lambda1 = lambda1 + 0.02\n",
        "  beta_predicted[i,:] = coordinate_descent_function(X,y,lambda1, 100)[:,0]\n",
        "\n",
        "beta_cvx_optimizer = cvx_optimizer(X,y[:,0])"
      ],
      "execution_count": null,
      "outputs": []
    },
    {
      "cell_type": "code",
      "metadata": {
        "id": "LKWu7DizfMpp"
      },
      "source": [
        "# Checking the output of the descent function with the true value\n",
        "print(beta.T)\n",
        "for i in range(num_iterations):\n",
        "  beta_predicted[i,:] = [round(beta_predicted[i,j]) for j in range(p)]\n",
        "  # print(X @ beta_predicted[i,:].T)\n",
        "  print(beta_predicted[i,:])\n",
        "print(beta_cvx_optimizer.value)"
      ],
      "execution_count": null,
      "outputs": []
    },
    {
      "cell_type": "code",
      "metadata": {
        "colab": {
          "base_uri": "https://localhost:8080/"
        },
        "id": "iInCcUmEisLA",
        "outputId": "2bd54656-6a3f-451a-eccb-5d8beee6df22"
      },
      "source": [
        ""
      ],
      "execution_count": null,
      "outputs": [
        {
          "output_type": "stream",
          "text": [
            "5\n"
          ],
          "name": "stdout"
        }
      ]
    }
  ]
}